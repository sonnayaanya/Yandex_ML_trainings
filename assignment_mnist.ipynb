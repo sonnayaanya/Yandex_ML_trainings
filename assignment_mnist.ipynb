{
 "cells": [
  {
   "cell_type": "markdown",
   "metadata": {},
   "source": [
    "## Домашнее задание №7\n",
    "\n",
    "##### Автор: [Радослав Нейчев](https://www.linkedin.com/in/radoslav-neychev/), @neychev"
   ]
  },
  {
   "cell_type": "code",
   "execution_count": 1,
   "metadata": {},
   "outputs": [],
   "source": [
    "import numpy as np\n",
    "\n",
    "import torch\n",
    "from torch import nn\n",
    "from torch.nn import functional as F\n",
    "\n",
    "import torchvision\n",
    "from torchvision.datasets import MNIST\n",
    "\n",
    "from matplotlib import pyplot as plt\n",
    "from IPython.display import clear_output"
   ]
  },
  {
   "cell_type": "markdown",
   "metadata": {},
   "source": [
    "### Задача №1: \n",
    "Обратимся к классической задаче распознавания рукописных цифр. Мы будем работать с набором данных [MNIST](http://yann.lecun.com/exdb/mnist/). В данном задании воспользуемся всем датасетом целиком.\n",
    "\n",
    "__Ваша основная задача: реализовать весь пайплан обучения модели и добиться качества $\\geq 92\\%$ на тестовой выборке.__\n",
    "\n",
    "Код для обучения модели в данном задании отсутствует. Присутствует лишь несколько тестов, которые помогут вам отладить свое решение. За примером можно обратиться к ноутбуку первого занятия.\n",
    "\n",
    "Настоятельно рекомендуем написать код \"с нуля\", лишь поглядывая на готовые примеры, а не просто \"скопировать-вставить\". Это поможет вам в дальнейшем."
   ]
  },
  {
   "cell_type": "code",
   "execution_count": 3,
   "metadata": {},
   "outputs": [
    {
     "name": "stdout",
     "output_type": "stream",
     "text": [
      "Downloading http://yann.lecun.com/exdb/mnist/train-images-idx3-ubyte.gz\n",
      "Downloading http://yann.lecun.com/exdb/mnist/train-images-idx3-ubyte.gz to .\\MNIST\\raw\\train-images-idx3-ubyte.gz\n"
     ]
    },
    {
     "name": "stderr",
     "output_type": "stream",
     "text": [
      "100%|███████████████████████████████████████████████████████████████████| 9912422/9912422 [00:09<00:00, 1095957.33it/s]\n"
     ]
    },
    {
     "name": "stdout",
     "output_type": "stream",
     "text": [
      "Extracting .\\MNIST\\raw\\train-images-idx3-ubyte.gz to .\\MNIST\\raw\n",
      "\n",
      "Downloading http://yann.lecun.com/exdb/mnist/train-labels-idx1-ubyte.gz\n",
      "Downloading http://yann.lecun.com/exdb/mnist/train-labels-idx1-ubyte.gz to .\\MNIST\\raw\\train-labels-idx1-ubyte.gz\n"
     ]
    },
    {
     "name": "stderr",
     "output_type": "stream",
     "text": [
      "100%|███████████████████████████████████████████████████████████████████████| 28881/28881 [00:00<00:00, 1693021.58it/s]\n"
     ]
    },
    {
     "name": "stdout",
     "output_type": "stream",
     "text": [
      "Extracting .\\MNIST\\raw\\train-labels-idx1-ubyte.gz to .\\MNIST\\raw\n",
      "\n",
      "Downloading http://yann.lecun.com/exdb/mnist/t10k-images-idx3-ubyte.gz\n",
      "Downloading http://yann.lecun.com/exdb/mnist/t10k-images-idx3-ubyte.gz to .\\MNIST\\raw\\t10k-images-idx3-ubyte.gz\n"
     ]
    },
    {
     "name": "stderr",
     "output_type": "stream",
     "text": [
      "100%|███████████████████████████████████████████████████████████████████| 1648877/1648877 [00:01<00:00, 1128809.24it/s]\n"
     ]
    },
    {
     "name": "stdout",
     "output_type": "stream",
     "text": [
      "Extracting .\\MNIST\\raw\\t10k-images-idx3-ubyte.gz to .\\MNIST\\raw\n",
      "\n",
      "Downloading http://yann.lecun.com/exdb/mnist/t10k-labels-idx1-ubyte.gz\n",
      "Downloading http://yann.lecun.com/exdb/mnist/t10k-labels-idx1-ubyte.gz to .\\MNIST\\raw\\t10k-labels-idx1-ubyte.gz\n"
     ]
    },
    {
     "name": "stderr",
     "output_type": "stream",
     "text": [
      "100%|█████████████████████████████████████████████████████████████████████████| 4542/4542 [00:00<00:00, 4805885.16it/s]"
     ]
    },
    {
     "name": "stdout",
     "output_type": "stream",
     "text": [
      "Extracting .\\MNIST\\raw\\t10k-labels-idx1-ubyte.gz to .\\MNIST\\raw\n"
     ]
    },
    {
     "name": "stderr",
     "output_type": "stream",
     "text": [
      "\n"
     ]
    },
    {
     "name": "stdout",
     "output_type": "stream",
     "text": [
      "\n"
     ]
    },
    {
     "data": {
      "text/plain": [
       "Text(0.5, 1.0, 'Image label: 6')"
      ]
     },
     "execution_count": 3,
     "metadata": {},
     "output_type": "execute_result"
    },
    {
     "data": {
      "image/png": "[encoded data removed]",
      "text/plain": [
       "<Figure size 640x480 with 1 Axes>"
      ]
     },
     "metadata": {},
     "output_type": "display_data"
    }
   ],
   "source": [
    "# do not change the code in the block below\n",
    "# __________start of block__________\n",
    "\n",
    "train_mnist_data = MNIST('.', train=True, transform=torchvision.transforms.ToTensor(), download=True)\n",
    "test_mnist_data = MNIST('.', train=False, transform=torchvision.transforms.ToTensor(), download=True)\n",
    "\n",
    "\n",
    "train_data_loader = torch.utils.data.DataLoader(\n",
    "    train_mnist_data,\n",
    "    batch_size=32,\n",
    "    shuffle=True,\n",
    "    num_workers=2\n",
    ")\n",
    "\n",
    "test_data_loader = torch.utils.data.DataLoader(\n",
    "    test_mnist_data,\n",
    "    batch_size=32,\n",
    "    shuffle=False,\n",
    "    num_workers=2\n",
    ")\n",
    "\n",
    "random_batch = next(iter(train_data_loader))\n",
    "_image, _label = random_batch[0][0], random_batch[1][0]\n",
    "plt.figure()\n",
    "plt.imshow(_image.reshape(28, 28))\n",
    "plt.title(f'Image label: {_label}')\n",
    "# __________end of block__________"
   ]
  },
  {
   "cell_type": "markdown",
   "metadata": {},
   "source": [
    "Постройте модель ниже. Пожалуйста, не стройте переусложненную сеть, не стоит делать ее глубже четырех слоев (можно и меньше). Ваша основная задача – обучить модель и получить качество на отложенной (тестовой выборке) не менее 92% accuracy.\n",
    "\n",
    "*Комментарий: для этого достаточно линейных слоев и функций активации.*\n",
    "\n",
    "__Внимание, ваша модель должна быть представлена именно переменной `model`.__"
   ]
  },
  {
   "cell_type": "code",
   "execution_count": 39,
   "metadata": {},
   "outputs": [],
   "source": [
    "class mnistclassifier(nn.Module):\n",
    "    def __init__(self):\n",
    "        super(mnistclassifier, self).__init__()\n",
    "        self.linear1 = nn.Linear(28 * 28, 128)\n",
    "        self.linear2 = nn.Linear(128, 64)\n",
    "        self.linear2_drop = nn.Dropout2d()\n",
    "        self.final = nn.Linear(64, 10)\n",
    "        self.relu = nn.ReLU()\n",
    "        \n",
    "        \n",
    "    def forward(self, x):\n",
    "        x = x.view(-1, 28*28)\n",
    "        x = self.relu(self.linear1(x))\n",
    "        x = self.relu(self.linear2(x))\n",
    "        x = self.linear2_drop(x)\n",
    "        x = self.final(x)\n",
    "        return x"
   ]
  },
  {
   "cell_type": "code",
   "execution_count": 40,
   "metadata": {},
   "outputs": [],
   "source": [
    "model = mnistclassifier()\n",
    "criterion = nn.CrossEntropyLoss()\n",
    "optimizer = torch.optim.Adam(model.parameters(), lr=0.001)"
   ]
  },
  {
   "cell_type": "code",
   "execution_count": 41,
   "metadata": {},
   "outputs": [
    {
     "name": "stdout",
     "output_type": "stream",
     "text": [
      "Epoch [1/10], Step [100/1875], Loss: 0.7651\n",
      "Epoch [1/10], Step [200/1875], Loss: 0.7831\n",
      "Epoch [1/10], Step [300/1875], Loss: 0.5873\n",
      "Epoch [1/10], Step [400/1875], Loss: 0.3853\n",
      "Epoch [1/10], Step [500/1875], Loss: 0.4691\n",
      "Epoch [1/10], Step [600/1875], Loss: 0.5347\n",
      "Epoch [1/10], Step [700/1875], Loss: 0.3121\n",
      "Epoch [1/10], Step [800/1875], Loss: 0.5635\n",
      "Epoch [1/10], Step [900/1875], Loss: 0.2361\n",
      "Epoch [1/10], Step [1000/1875], Loss: 0.7626\n",
      "Epoch [1/10], Step [1100/1875], Loss: 0.1490\n",
      "Epoch [1/10], Step [1200/1875], Loss: 0.3222\n",
      "Epoch [1/10], Step [1300/1875], Loss: 0.0871\n",
      "Epoch [1/10], Step [1400/1875], Loss: 0.5678\n",
      "Epoch [1/10], Step [1500/1875], Loss: 0.2677\n",
      "Epoch [1/10], Step [1600/1875], Loss: 0.1287\n",
      "Epoch [1/10], Step [1700/1875], Loss: 0.2111\n",
      "Epoch [1/10], Step [1800/1875], Loss: 0.3029\n",
      "Epoch [2/10], Step [100/1875], Loss: 0.0785\n",
      "Epoch [2/10], Step [200/1875], Loss: 0.0350\n",
      "Epoch [2/10], Step [300/1875], Loss: 0.2469\n",
      "Epoch [2/10], Step [400/1875], Loss: 0.1432\n",
      "Epoch [2/10], Step [500/1875], Loss: 0.3256\n",
      "Epoch [2/10], Step [600/1875], Loss: 0.1530\n",
      "Epoch [2/10], Step [700/1875], Loss: 0.0627\n",
      "Epoch [2/10], Step [800/1875], Loss: 0.1525\n",
      "Epoch [2/10], Step [900/1875], Loss: 0.4857\n",
      "Epoch [2/10], Step [1000/1875], Loss: 0.0162\n",
      "Epoch [2/10], Step [1100/1875], Loss: 0.1441\n",
      "Epoch [2/10], Step [1200/1875], Loss: 0.1444\n",
      "Epoch [2/10], Step [1300/1875], Loss: 0.4318\n",
      "Epoch [2/10], Step [1400/1875], Loss: 0.1778\n",
      "Epoch [2/10], Step [1500/1875], Loss: 0.0634\n",
      "Epoch [2/10], Step [1600/1875], Loss: 0.2288\n",
      "Epoch [2/10], Step [1700/1875], Loss: 0.2806\n",
      "Epoch [2/10], Step [1800/1875], Loss: 0.0244\n",
      "Epoch [3/10], Step [100/1875], Loss: 0.0894\n",
      "Epoch [3/10], Step [200/1875], Loss: 0.2687\n",
      "Epoch [3/10], Step [300/1875], Loss: 0.0416\n",
      "Epoch [3/10], Step [400/1875], Loss: 0.1417\n",
      "Epoch [3/10], Step [500/1875], Loss: 0.0235\n",
      "Epoch [3/10], Step [600/1875], Loss: 0.0324\n",
      "Epoch [3/10], Step [700/1875], Loss: 0.1555\n",
      "Epoch [3/10], Step [800/1875], Loss: 0.0392\n",
      "Epoch [3/10], Step [900/1875], Loss: 0.0833\n",
      "Epoch [3/10], Step [1000/1875], Loss: 0.1818\n",
      "Epoch [3/10], Step [1100/1875], Loss: 0.0315\n",
      "Epoch [3/10], Step [1200/1875], Loss: 0.3042\n",
      "Epoch [3/10], Step [1300/1875], Loss: 0.0501\n",
      "Epoch [3/10], Step [1400/1875], Loss: 0.1247\n",
      "Epoch [3/10], Step [1500/1875], Loss: 0.2574\n",
      "Epoch [3/10], Step [1600/1875], Loss: 0.1839\n",
      "Epoch [3/10], Step [1700/1875], Loss: 0.1815\n",
      "Epoch [3/10], Step [1800/1875], Loss: 0.2742\n",
      "Epoch [4/10], Step [100/1875], Loss: 0.4104\n",
      "Epoch [4/10], Step [200/1875], Loss: 0.1595\n",
      "Epoch [4/10], Step [300/1875], Loss: 0.2179\n",
      "Epoch [4/10], Step [400/1875], Loss: 0.0661\n",
      "Epoch [4/10], Step [500/1875], Loss: 0.0249\n",
      "Epoch [4/10], Step [600/1875], Loss: 0.0442\n",
      "Epoch [4/10], Step [700/1875], Loss: 0.0475\n",
      "Epoch [4/10], Step [800/1875], Loss: 0.0849\n",
      "Epoch [4/10], Step [900/1875], Loss: 0.0051\n",
      "Epoch [4/10], Step [1000/1875], Loss: 0.1262\n",
      "Epoch [4/10], Step [1100/1875], Loss: 0.0626\n",
      "Epoch [4/10], Step [1200/1875], Loss: 0.0466\n",
      "Epoch [4/10], Step [1300/1875], Loss: 0.0451\n",
      "Epoch [4/10], Step [1400/1875], Loss: 0.0205\n",
      "Epoch [4/10], Step [1500/1875], Loss: 0.1575\n",
      "Epoch [4/10], Step [1600/1875], Loss: 0.0543\n",
      "Epoch [4/10], Step [1700/1875], Loss: 0.2482\n",
      "Epoch [4/10], Step [1800/1875], Loss: 0.0186\n",
      "Epoch [5/10], Step [100/1875], Loss: 0.0835\n",
      "Epoch [5/10], Step [200/1875], Loss: 0.0306\n",
      "Epoch [5/10], Step [300/1875], Loss: 0.0429\n",
      "Epoch [5/10], Step [400/1875], Loss: 0.0336\n",
      "Epoch [5/10], Step [500/1875], Loss: 0.1790\n",
      "Epoch [5/10], Step [600/1875], Loss: 0.0120\n",
      "Epoch [5/10], Step [700/1875], Loss: 0.2174\n",
      "Epoch [5/10], Step [800/1875], Loss: 0.0970\n",
      "Epoch [5/10], Step [900/1875], Loss: 0.0180\n",
      "Epoch [5/10], Step [1000/1875], Loss: 0.0777\n",
      "Epoch [5/10], Step [1100/1875], Loss: 0.0803\n",
      "Epoch [5/10], Step [1200/1875], Loss: 0.0855\n",
      "Epoch [5/10], Step [1300/1875], Loss: 0.0221\n",
      "Epoch [5/10], Step [1400/1875], Loss: 0.2789\n",
      "Epoch [5/10], Step [1500/1875], Loss: 0.0191\n",
      "Epoch [5/10], Step [1600/1875], Loss: 0.1492\n",
      "Epoch [5/10], Step [1700/1875], Loss: 0.0079\n",
      "Epoch [5/10], Step [1800/1875], Loss: 0.0494\n",
      "Epoch [6/10], Step [100/1875], Loss: 0.0092\n",
      "Epoch [6/10], Step [200/1875], Loss: 0.0283\n",
      "Epoch [6/10], Step [300/1875], Loss: 0.0159\n",
      "Epoch [6/10], Step [400/1875], Loss: 0.2800\n",
      "Epoch [6/10], Step [500/1875], Loss: 0.0966\n",
      "Epoch [6/10], Step [600/1875], Loss: 0.0724\n",
      "Epoch [6/10], Step [700/1875], Loss: 0.0226\n",
      "Epoch [6/10], Step [800/1875], Loss: 0.1056\n",
      "Epoch [6/10], Step [900/1875], Loss: 0.0070\n",
      "Epoch [6/10], Step [1000/1875], Loss: 0.0974\n",
      "Epoch [6/10], Step [1100/1875], Loss: 0.0103\n",
      "Epoch [6/10], Step [1200/1875], Loss: 0.2130\n",
      "Epoch [6/10], Step [1300/1875], Loss: 0.0315\n",
      "Epoch [6/10], Step [1400/1875], Loss: 0.0147\n",
      "Epoch [6/10], Step [1500/1875], Loss: 0.0291\n",
      "Epoch [6/10], Step [1600/1875], Loss: 0.0134\n",
      "Epoch [6/10], Step [1700/1875], Loss: 0.0301\n",
      "Epoch [6/10], Step [1800/1875], Loss: 0.0334\n",
      "Epoch [7/10], Step [100/1875], Loss: 0.0965\n",
      "Epoch [7/10], Step [200/1875], Loss: 0.0946\n",
      "Epoch [7/10], Step [300/1875], Loss: 0.0178\n",
      "Epoch [7/10], Step [400/1875], Loss: 0.0020\n",
      "Epoch [7/10], Step [500/1875], Loss: 0.0248\n",
      "Epoch [7/10], Step [600/1875], Loss: 0.0150\n",
      "Epoch [7/10], Step [700/1875], Loss: 0.1853\n",
      "Epoch [7/10], Step [800/1875], Loss: 0.0572\n",
      "Epoch [7/10], Step [900/1875], Loss: 0.0675\n",
      "Epoch [7/10], Step [1000/1875], Loss: 0.0389\n",
      "Epoch [7/10], Step [1100/1875], Loss: 0.0498\n",
      "Epoch [7/10], Step [1200/1875], Loss: 0.1685\n",
      "Epoch [7/10], Step [1300/1875], Loss: 0.1484\n",
      "Epoch [7/10], Step [1400/1875], Loss: 0.0081\n",
      "Epoch [7/10], Step [1500/1875], Loss: 0.3651\n",
      "Epoch [7/10], Step [1600/1875], Loss: 0.0492\n",
      "Epoch [7/10], Step [1700/1875], Loss: 0.0242\n",
      "Epoch [7/10], Step [1800/1875], Loss: 0.0775\n",
      "Epoch [8/10], Step [100/1875], Loss: 0.0028\n",
      "Epoch [8/10], Step [200/1875], Loss: 0.0192\n",
      "Epoch [8/10], Step [300/1875], Loss: 0.0145\n",
      "Epoch [8/10], Step [400/1875], Loss: 0.0024\n",
      "Epoch [8/10], Step [500/1875], Loss: 0.0941\n",
      "Epoch [8/10], Step [600/1875], Loss: 0.0692\n",
      "Epoch [8/10], Step [700/1875], Loss: 0.0678\n",
      "Epoch [8/10], Step [800/1875], Loss: 0.0703\n",
      "Epoch [8/10], Step [900/1875], Loss: 0.0359\n",
      "Epoch [8/10], Step [1000/1875], Loss: 0.0049\n",
      "Epoch [8/10], Step [1100/1875], Loss: 0.0454\n",
      "Epoch [8/10], Step [1200/1875], Loss: 0.1644\n",
      "Epoch [8/10], Step [1300/1875], Loss: 0.1465\n",
      "Epoch [8/10], Step [1400/1875], Loss: 0.0149\n",
      "Epoch [8/10], Step [1500/1875], Loss: 0.0346\n",
      "Epoch [8/10], Step [1600/1875], Loss: 0.0414\n",
      "Epoch [8/10], Step [1700/1875], Loss: 0.0231\n",
      "Epoch [8/10], Step [1800/1875], Loss: 0.0451\n",
      "Epoch [9/10], Step [100/1875], Loss: 0.0689\n",
      "Epoch [9/10], Step [200/1875], Loss: 0.2381\n",
      "Epoch [9/10], Step [300/1875], Loss: 0.0323\n",
      "Epoch [9/10], Step [400/1875], Loss: 0.0649\n",
      "Epoch [9/10], Step [500/1875], Loss: 0.0597\n",
      "Epoch [9/10], Step [600/1875], Loss: 0.0316\n",
      "Epoch [9/10], Step [700/1875], Loss: 0.0035\n",
      "Epoch [9/10], Step [800/1875], Loss: 0.0231\n",
      "Epoch [9/10], Step [900/1875], Loss: 0.0013\n",
      "Epoch [9/10], Step [1000/1875], Loss: 0.0283\n",
      "Epoch [9/10], Step [1100/1875], Loss: 0.0021\n",
      "Epoch [9/10], Step [1200/1875], Loss: 0.0027\n",
      "Epoch [9/10], Step [1300/1875], Loss: 0.3572\n",
      "Epoch [9/10], Step [1400/1875], Loss: 0.0050\n",
      "Epoch [9/10], Step [1500/1875], Loss: 0.1559\n",
      "Epoch [9/10], Step [1600/1875], Loss: 0.0208\n",
      "Epoch [9/10], Step [1700/1875], Loss: 0.0098\n",
      "Epoch [9/10], Step [1800/1875], Loss: 0.1173\n",
      "Epoch [10/10], Step [100/1875], Loss: 0.0193\n",
      "Epoch [10/10], Step [200/1875], Loss: 0.0025\n",
      "Epoch [10/10], Step [300/1875], Loss: 0.0619\n",
      "Epoch [10/10], Step [400/1875], Loss: 0.0183\n",
      "Epoch [10/10], Step [500/1875], Loss: 0.0151\n",
      "Epoch [10/10], Step [600/1875], Loss: 0.0177\n",
      "Epoch [10/10], Step [700/1875], Loss: 0.0139\n",
      "Epoch [10/10], Step [800/1875], Loss: 0.0048\n",
      "Epoch [10/10], Step [900/1875], Loss: 0.0155\n",
      "Epoch [10/10], Step [1000/1875], Loss: 0.2052\n",
      "Epoch [10/10], Step [1100/1875], Loss: 0.0687\n",
      "Epoch [10/10], Step [1200/1875], Loss: 0.0380\n",
      "Epoch [10/10], Step [1300/1875], Loss: 0.1410\n",
      "Epoch [10/10], Step [1400/1875], Loss: 0.0653\n",
      "Epoch [10/10], Step [1500/1875], Loss: 0.0185\n",
      "Epoch [10/10], Step [1600/1875], Loss: 0.0190\n",
      "Epoch [10/10], Step [1700/1875], Loss: 0.0086\n",
      "Epoch [10/10], Step [1800/1875], Loss: 0.0646\n"
     ]
    }
   ],
   "source": [
    "num_epochs = 10\n",
    "total_step = len(train_data_loader)\n",
    "for epoch in range(num_epochs):\n",
    "    for i, (images, labels) in enumerate(train_data_loader):\n",
    "        outputs = model(images)\n",
    "        loss = criterion(outputs, labels)\n",
    "        \n",
    "        optimizer.zero_grad()\n",
    "        loss.backward()\n",
    "        optimizer.step()\n",
    "        \n",
    "        if (i+1) % 100 == 0:\n",
    "            print(f'Epoch [{epoch+1}/{num_epochs}], Step [{i+1}/{total_step}], Loss: {loss.item():.4f}')\n"
   ]
  },
  {
   "cell_type": "markdown",
   "metadata": {},
   "source": [
    "Локальные тесты для проверки вашей модели доступны ниже:"
   ]
  },
  {
   "cell_type": "code",
   "execution_count": 42,
   "metadata": {},
   "outputs": [
    {
     "name": "stdout",
     "output_type": "stream",
     "text": [
      "Everything seems fine!\n"
     ]
    }
   ],
   "source": [
    "# do not change the code in the block below\n",
    "# __________start of block__________\n",
    "assert model is not None, 'Please, use `model` variable to store your model'\n",
    "\n",
    "try:\n",
    "    x = random_batch[0].reshape(-1, 784)\n",
    "    y = random_batch[1]\n",
    "\n",
    "    # compute outputs given inputs, both are variables\n",
    "    y_predicted = model(x)    \n",
    "except Exception as e:\n",
    "    print('Something is wrong with the model')\n",
    "    raise e\n",
    "    \n",
    "    \n",
    "assert y_predicted.shape[-1] == 10, 'Model should predict 10 logits/probas'\n",
    "\n",
    "print('Everything seems fine!')\n",
    "# __________end of block__________"
   ]
  },
  {
   "cell_type": "markdown",
   "metadata": {},
   "source": [
    "Настройте параметры модели на обучающей выборке. Рекомендуем поработать с различными оптимизаторами."
   ]
  },
  {
   "cell_type": "markdown",
   "metadata": {},
   "source": [
    "Также, напоминаем, что в любой момент можно обратиться к замечательной [документации](https://pytorch.org/docs/stable/index.html) и [обучающим примерам](https://pytorch.org/tutorials/).  "
   ]
  },
  {
   "cell_type": "markdown",
   "metadata": {},
   "source": [
    "Оценим качество классификации:"
   ]
  },
  {
   "cell_type": "code",
   "execution_count": 43,
   "metadata": {},
   "outputs": [],
   "source": [
    "predicted_labels = []\n",
    "real_labels = []\n",
    "model.eval()\n",
    "with torch.no_grad():\n",
    "    for batch in train_data_loader:\n",
    "        y_predicted = model(batch[0].reshape(-1, 784))\n",
    "        predicted_labels.append(y_predicted.argmax(dim=1))\n",
    "        real_labels.append(batch[1])\n",
    "\n",
    "predicted_labels = torch.cat(predicted_labels)\n",
    "real_labels = torch.cat(real_labels)\n",
    "train_acc = (predicted_labels == real_labels).type(torch.FloatTensor).mean()"
   ]
  },
  {
   "cell_type": "code",
   "execution_count": 44,
   "metadata": {},
   "outputs": [
    {
     "name": "stdout",
     "output_type": "stream",
     "text": [
      "Neural network accuracy on train set: 0.99405\n"
     ]
    }
   ],
   "source": [
    "print(f'Neural network accuracy on train set: {train_acc:3.5}')"
   ]
  },
  {
   "cell_type": "code",
   "execution_count": 45,
   "metadata": {},
   "outputs": [],
   "source": [
    "predicted_labels = []\n",
    "real_labels = []\n",
    "model.eval()\n",
    "with torch.no_grad():\n",
    "    for batch in test_data_loader:\n",
    "        y_predicted = model(batch[0].reshape(-1, 784))\n",
    "        predicted_labels.append(y_predicted.argmax(dim=1))\n",
    "        real_labels.append(batch[1])\n",
    "\n",
    "predicted_labels = torch.cat(predicted_labels)\n",
    "real_labels = torch.cat(real_labels)\n",
    "test_acc = (predicted_labels == real_labels).type(torch.FloatTensor).mean()"
   ]
  },
  {
   "cell_type": "code",
   "execution_count": 46,
   "metadata": {},
   "outputs": [
    {
     "name": "stdout",
     "output_type": "stream",
     "text": [
      "Neural network accuracy on test set: 0.9782\n"
     ]
    }
   ],
   "source": [
    "print(f'Neural network accuracy on test set: {test_acc:3.5}')"
   ]
  },
  {
   "cell_type": "markdown",
   "metadata": {},
   "source": [
    "Проверка, что необходимые пороги пройдены:"
   ]
  },
  {
   "cell_type": "code",
   "execution_count": 47,
   "metadata": {},
   "outputs": [],
   "source": [
    "assert test_acc >= 0.92, 'Test accuracy is below 0.92 threshold'\n",
    "assert train_acc >= 0.91, 'Train accuracy is below 0.91 while test accuracy is fine. We recommend to check your model and data flow'"
   ]
  },
  {
   "cell_type": "markdown",
   "metadata": {},
   "source": [
    "### Сдача задания\n",
    "Загрузите файл `hw07_data_dict.npy` (ссылка есть на странице с заданием) и запустите код ниже для генерации посылки. Код ниже может его загрузить (но в случае возникновения ошибки скачайте и загрузите его вручную)."
   ]
  },
  {
   "cell_type": "code",
   "execution_count": 48,
   "metadata": {},
   "outputs": [
    {
     "name": "stderr",
     "output_type": "stream",
     "text": [
      "\"wget\" ­Ґ пў«пҐвбп ў­гваҐ­­Ґ© Ё«Ё ў­Ґи­Ґ©\n",
      "Є®¬ ­¤®©, ЁбЇ®«­пҐ¬®© Їа®Ја ¬¬®© Ё«Ё Ї ЄҐв­л¬ д ©«®¬.\n"
     ]
    }
   ],
   "source": [
    "!wget https://raw.githubusercontent.com/girafe-ai/ml-course/23s_dd_ml/homeworks/hw07_mnist_classification/hw07_data_dict.npy"
   ]
  },
  {
   "cell_type": "code",
   "execution_count": 49,
   "metadata": {},
   "outputs": [
    {
     "name": "stdout",
     "output_type": "stream",
     "text": [
      "File saved to `submission_dict_hw07.npy`\n"
     ]
    }
   ],
   "source": [
    "# do not change the code in the block below\n",
    "# __________start of block__________\n",
    "import os\n",
    "\n",
    "assert os.path.exists('hw07_data_dict.npy'), 'Please, download `hw07_data_dict.npy` and place it in the working directory'\n",
    "\n",
    "def get_predictions(model, eval_data, step=10):\n",
    "    \n",
    "    predicted_labels = []\n",
    "    model.eval()\n",
    "    with torch.no_grad():\n",
    "        for idx in range(0, len(eval_data), step):\n",
    "            y_predicted = model(eval_data[idx:idx+step].reshape(-1, 784))\n",
    "            predicted_labels.append(y_predicted.argmax(dim=1))\n",
    "    \n",
    "    predicted_labels = torch.cat(predicted_labels)\n",
    "    return predicted_labels\n",
    "\n",
    "loaded_data_dict = np.load('hw07_data_dict.npy', allow_pickle=True)\n",
    "\n",
    "submission_dict = {\n",
    "    'train': get_predictions(model, torch.FloatTensor(loaded_data_dict.item()['train'])).numpy(),\n",
    "    'test': get_predictions(model, torch.FloatTensor(loaded_data_dict.item()['test'])).numpy()\n",
    "}\n",
    "\n",
    "np.save('submission_dict_hw07.npy', submission_dict, allow_pickle=True)\n",
    "print('File saved to `submission_dict_hw07.npy`')\n",
    "# __________end of block__________"
   ]
  },
  {
   "cell_type": "markdown",
   "metadata": {},
   "source": [
    "На этом задание завершено. Поздравляем!"
   ]
  }
 ],
 "metadata": {
  "kernelspec": {
   "display_name": "Python 3 (ipykernel)",
   "language": "python",
   "name": "python3"
  },
  "language_info": {
   "codemirror_mode": {
    "name": "ipython",
    "version": 3
   },
   "file_extension": ".py",
   "mimetype": "text/x-python",
   "name": "python",
   "nbconvert_exporter": "python",
   "pygments_lexer": "ipython3",
   "version": "3.11.3"
  }
 },
 "nbformat": 4,
 "nbformat_minor": 4
}
